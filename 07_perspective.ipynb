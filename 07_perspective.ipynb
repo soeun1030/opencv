{
 "cells": [
  {
   "cell_type": "code",
   "execution_count": 5,
   "metadata": {},
   "outputs": [],
   "source": [
    "# 7. 원근 변환\n",
    "\n",
    "import cv2\n",
    "import numpy as np\n",
    "card = \"images/card.jpg\"\n",
    "maru_pad = \"images/maru_pad.jpg\"\n"
   ]
  },
  {
   "cell_type": "code",
   "execution_count": 7,
   "metadata": {},
   "outputs": [],
   "source": [
    "img = cv2.imread(card)\n",
    "\n",
    "width, height = 600, 350\n",
    "\n",
    "src = np.array([[54, 261], [981, 128], [1213, 560], [194, 735]], dtype=np.float32)  #변형할 지점 선택(왼쪽 위부터 시계방향으로 작성)\n",
    "dst = np.array([[0,0], [width, 0], [width, height], [0,height]], dtype=np.float32)  #결과물 출력할 형태(시계방향으로)\n",
    "mat = cv2.getPerspectiveTransform(src, dst)  #원근을 변형하기 위한 matrix 생성 / (변형할 소스, 결과물 출력할 형태)\n",
    "result = cv2.warpPerspective(img, mat, (width, height))  #img를 mat에 의해 변환 / (원본이미지, 매트릭스, 최종 결과물의 너비와 높이)\n",
    "\n",
    "cv2.imshow(\"img\", img)\n",
    "cv2.imshow(\"perspective\", result)\n",
    "\n",
    "cv2.waitKey(0)\n",
    "cv2.destroyAllWindows()\n",
    "\n"
   ]
  },
  {
   "cell_type": "code",
   "execution_count": 18,
   "metadata": {},
   "outputs": [],
   "source": [
    "## 실습1. 이미지 원근 변환하기\n",
    "img = cv2.imread(maru_pad)\n",
    "\n",
    "width, height = 600, 500\n",
    "\n",
    "src = np.array([[203,254], [393,177], [482,328], [353, 390]], dtype=np.float32)\n",
    "dst = np.array([[0,0], [width, 0], [width, height], [0,height]], dtype=np.float32)\n",
    "mat = cv2.getPerspectiveTransform(src, dst)  \n",
    "result = cv2.warpPerspective(img, mat, (width, height))  \n",
    "\n",
    "cv2.imshow(\"img\", img)\n",
    "cv2.imshow(\"perspective\", result)\n",
    "\n",
    "cv2.waitKey(0)\n",
    "cv2.destroyAllWindows()"
   ]
  },
  {
   "cell_type": "code",
   "execution_count": null,
   "metadata": {},
   "outputs": [],
   "source": []
  }
 ],
 "metadata": {
  "kernelspec": {
   "display_name": "my_cv",
   "language": "python",
   "name": "python3"
  },
  "language_info": {
   "codemirror_mode": {
    "name": "ipython",
    "version": 3
   },
   "file_extension": ".py",
   "mimetype": "text/x-python",
   "name": "python",
   "nbconvert_exporter": "python",
   "pygments_lexer": "ipython3",
   "version": "3.12.8"
  }
 },
 "nbformat": 4,
 "nbformat_minor": 2
}
