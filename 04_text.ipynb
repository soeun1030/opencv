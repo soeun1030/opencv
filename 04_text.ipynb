{
 "cells": [
  {
   "cell_type": "code",
   "execution_count": 2,
   "metadata": {},
   "outputs": [],
   "source": [
    "# 4. 텍스트\n",
    "### 한글 입력 지원x\n",
    "import cv2\n",
    "import numpy as np"
   ]
  },
  {
   "cell_type": "code",
   "execution_count": 9,
   "metadata": {},
   "outputs": [],
   "source": [
    "## 4-1. 텍스트 기본(영어)\n",
    "img = np.zeros((460,640,3), dtype=np.uint8)\n",
    "\n",
    "scale = 1\n",
    "color = (255,255,255)\n",
    "thickness = 2\n",
    "\n",
    "cv2.putText(img, \"Hello world\", (100,100), cv2.FONT_HERSHEY_COMPLEX, scale, color, thickness)\n",
    "cv2.putText(img, \"Hello world\", (100,200), cv2.FONT_HERSHEY_DUPLEX, scale, color, thickness)\n",
    "cv2.putText(img, \"Hello world\", (100,300), cv2.FONT_HERSHEY_PLAIN, 3, color, thickness)\n",
    "cv2.putText(img, \"Hello world\", (100,400), cv2.FONT_HERSHEY_PLAIN | cv2.FONT_ITALIC, 3, color, thickness)\n",
    "cv2.imshow(\"Text\", img)\n",
    "cv2.waitKey(0)\n",
    "cv2.destroyAllWindows()"
   ]
  },
  {
   "cell_type": "code",
   "execution_count": 10,
   "metadata": {},
   "outputs": [
    {
     "name": "stdout",
     "output_type": "stream",
     "text": [
      "Collecting pillow\n",
      "  Downloading pillow-11.1.0-cp312-cp312-win_amd64.whl.metadata (9.3 kB)\n",
      "Downloading pillow-11.1.0-cp312-cp312-win_amd64.whl (2.6 MB)\n",
      "   ---------------------------------------- 0.0/2.6 MB ? eta -:--:--\n",
      "   ---------------------------------------- 2.6/2.6 MB 30.3 MB/s eta 0:00:00\n",
      "Installing collected packages: pillow\n",
      "Successfully installed pillow-11.1.0\n",
      "Note: you may need to restart the kernel to use updated packages.\n"
     ]
    }
   ],
   "source": [
    "## 4-2. 한글 텍스트 입력\n",
    "%pip install pillow"
   ]
  },
  {
   "cell_type": "code",
   "execution_count": 13,
   "metadata": {},
   "outputs": [],
   "source": [
    "### 오픈cv에서는 한글이 지원안되니까 밑에 처럼 우회적인 방법을 이용하여 한글 사용\n",
    "from PIL import Image, ImageDraw, ImageFont\n",
    "\n",
    "img = np.zeros((460,640,3), dtype=np.uint8)\n",
    "\n",
    "def putKorText(img, text, pos, font_size, font_color):  #pos : position\n",
    "    img_pil = Image.fromarray(img)\n",
    "    draw = ImageDraw.Draw(img_pil)\n",
    "    font = ImageFont.truetype(\"fonts/gulim.ttc\", font_size)\n",
    "    draw.text(pos, text, font=font, fill=font_color)\n",
    "    return np.array(img_pil)\n",
    "\n",
    "text = putKorText(img, \"스팩 7기 화이팅\", (100,100), 30, (255,255,255))\n",
    "\n",
    "cv2.imshow(\"Korean text\", text)\n",
    "cv2.waitKey(0)\n",
    "cv2.destroyAllWindows()"
   ]
  },
  {
   "cell_type": "code",
   "execution_count": null,
   "metadata": {},
   "outputs": [],
   "source": []
  }
 ],
 "metadata": {
  "kernelspec": {
   "display_name": "my_cv",
   "language": "python",
   "name": "python3"
  },
  "language_info": {
   "codemirror_mode": {
    "name": "ipython",
    "version": 3
   },
   "file_extension": ".py",
   "mimetype": "text/x-python",
   "name": "python",
   "nbconvert_exporter": "python",
   "pygments_lexer": "ipython3",
   "version": "3.12.8"
  }
 },
 "nbformat": 4,
 "nbformat_minor": 2
}
