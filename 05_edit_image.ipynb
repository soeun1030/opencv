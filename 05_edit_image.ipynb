{
 "cells": [
  {
   "cell_type": "code",
   "execution_count": 2,
   "metadata": {},
   "outputs": [],
   "source": [
    "# 5. 이미지 조정\n",
    "import cv2\n",
    "import numpy as np\n",
    "\n",
    "maru_path = \"images/maru.jpg\"\n",
    "video_path = \"videos/video1.mp4\""
   ]
  },
  {
   "cell_type": "code",
   "execution_count": 63,
   "metadata": {},
   "outputs": [],
   "source": [
    "## 5-1. 이미지 복사\n",
    "img = cv2.imread(maru_path)\n",
    "shallow_copy = img  #얕은 복사\n",
    "deep_copy = img.copy()  #깊은 복사\n",
    "\n",
    "gray = cv2.cvtColor(shallow_copy, cv2.COLOR_BGR2GRAY)\n",
    "\n",
    "cv2.imshow(\"original\", img)\n",
    "cv2.imshow(\"shallow\", shallow_copy)\n",
    "\n",
    "cv2.waitKey(0)\n",
    "cv2.destroyAllWindows()\n"
   ]
  },
  {
   "cell_type": "code",
   "execution_count": 29,
   "metadata": {},
   "outputs": [],
   "source": [
    "## 5-2. 리사이즈\n",
    "img = cv2.imread(maru_path)\n",
    "img.shape\n",
    "\n",
    "### 고정 크기를 입력해서 조정\n",
    "dst = cv2.resize(img, (320, 213))  #(가로,세로)\n",
    "cv2.imshow(\"resize\", dst)\n",
    "cv2.waitKey(0)\n",
    "cv2.destroyAllWindows()\n",
    "\n",
    "### 비율로 조정\n",
    "dst = cv2.resize(img, None, fx=2, fy=2)\n",
    "cubic = cv2.resize(img, None, fx=2, fy=2, interpolation=cv2.INTER_CUBIC)\n",
    "\n",
    "cv2.imshow(\"dst\", dst)\n",
    "cv2.imshow(\"cubic\", cubic)\n",
    "cv2.waitKey(0)\n",
    "cv2.destroyAllWindows()"
   ]
  },
  {
   "cell_type": "code",
   "execution_count": 38,
   "metadata": {},
   "outputs": [],
   "source": [
    "## 실습2. 영상 리사이즈 해서 출력\n",
    "cap = cv2.VideoCapture(video_path)\n",
    "fps = cap.get(cv2.CAP_PROP_FPS)\n",
    "\n",
    "while cap.isOpened():\n",
    "    ret, frame = cap.read()\n",
    "\n",
    "    if not ret:\n",
    "        break\n",
    "    \n",
    "    dst = cv2.resize(frame, None, fx=1, fy=1.5)\n",
    "\n",
    "    cv2.imshow(\"video\", frame)\n",
    "    \n",
    "    if cv2.waitKey(int(1000/fps)) == ord(\"q\"):\n",
    "        break\n",
    "\n",
    "cap.release()\n",
    "cv2.destroyAllWindows()\n"
   ]
  },
  {
   "cell_type": "code",
   "execution_count": 39,
   "metadata": {},
   "outputs": [],
   "source": [
    "## 이미지 피라미드\n",
    "img = cv2.imread(maru_path)\n",
    "\n",
    "size_up = cv2.pyrUp(img)\n",
    "size_down = cv2.pyrDown(img)\n",
    "\n",
    "cv2.imshow(\"Pyr up\", size_up)\n",
    "cv2.imshow(\"original\", img)\n",
    "cv2.imshow(\"Pyr down\", size_down)\n",
    "\n",
    "cv2.waitKey(0)\n",
    "cv2.destroyAllWindows()"
   ]
  },
  {
   "cell_type": "code",
   "execution_count": 51,
   "metadata": {},
   "outputs": [],
   "source": [
    "## 5-3. 이미지 자르기\n",
    "img = cv2.imread(maru_path)\n",
    "\n",
    "cropped = img[100:200, 150:250]\n",
    "img[100:200, 450:550] = cropped  #크롭한 부분 원본에 합치기\n",
    "\n",
    "cv2.imshow(\"Maru\", img)\n",
    "cv2.imshow(\"Maru Cropped\", cropped)\n",
    "\n",
    "cv2.waitKey(0)\n",
    "cv2.destroyAllWindows()"
   ]
  },
  {
   "cell_type": "code",
   "execution_count": 53,
   "metadata": {},
   "outputs": [],
   "source": [
    "## 5-4. 이미지 대칭\n",
    "### flipcode > 0 : 좌우반전(y축 반전) / flipcode == 0 : 상하 반전(x축 반전) / flipcode < 0 : 상하좌우 반전 \n",
    "img = cv2.imread(maru_path)\n",
    "dst_1 = cv2.flip(img, 1)\n",
    "dst_2 = cv2.flip(img, 0)\n",
    "dst_3 = cv2.flip(img, -1)\n",
    "\n",
    "cv2.imshow(\"img\", img)\n",
    "cv2.imshow(\"dst_1\", dst_1)\n",
    "cv2.imshow(\"dst_2\", dst_2)\n",
    "cv2.imshow(\"dst_3\", dst_3)\n",
    "\n",
    "cv2.waitKey()\n",
    "cv2.destroyAllWindows()"
   ]
  },
  {
   "cell_type": "code",
   "execution_count": 70,
   "metadata": {},
   "outputs": [],
   "source": [
    "## 실습3. 이미지 조정\n",
    "### 내 코드\n",
    "suhyun_path = \"images/suhyun.png\"\n",
    "img = cv2.imread(suhyun_path)\n",
    "height, width, channels = img.shape\n",
    "\n",
    "su_resize = cv2.resize(img, None, fx=0.5, fy=0.5)\n",
    "su_flip = cv2.flip(su_resize, 1)\n",
    "\n",
    "img[int(height/2):, int(width/2):] = su_flip\n",
    "\n",
    "cv2.imshow(\"img\", img)\n",
    "cv2.waitKey(0)\n",
    "cv2.destroyAllWindows()"
   ]
  },
  {
   "cell_type": "code",
   "execution_count": 74,
   "metadata": {},
   "outputs": [],
   "source": [
    "### 리더님 코드\n",
    "suhyun_path = \"images/suhyun.png\"\n",
    "img = cv2.imread(suhyun_path)\n",
    "\n",
    "dst = cv2.pyrDown(img)\n",
    "dst = cv2.flip(dst, 1)\n",
    "\n",
    "iheight, iwidth, ichannel = img.shape\n",
    "dheight, dwidth, dchannel = dst.shape\n",
    "\n",
    "img[iheight-dheight:iheight, iwidth-dwidth:iwidth] = dst\n",
    "cv2.imshow(\"img\", img)\n",
    "cv2.waitKey(0)\n",
    "cv2.destroyAllWindows()"
   ]
  },
  {
   "cell_type": "code",
   "execution_count": 77,
   "metadata": {},
   "outputs": [],
   "source": [
    "## 이미지 채널 분리와 병합\n",
    "img = cv2.imread(maru_path)\n",
    "\n",
    "blue, green, red = cv2.split(img)\n",
    "\n",
    "merged_image = cv2.merge([blue,green,red])  #이미지 채널 병합\n",
    "cv2.imshow(\"merged\", merged_image)\n",
    "\n",
    "cv2.imshow(\"Blue\",blue)\n",
    "cv2.imshow(\"Green\",green)\n",
    "cv2.imshow(\"Red\",red)\n",
    "\n",
    "cv2.waitKey(0)\n",
    "cv2.destroyAllWindows()"
   ]
  },
  {
   "cell_type": "code",
   "execution_count": 78,
   "metadata": {},
   "outputs": [],
   "source": [
    "## 5-5. 이미지 색상 변경\n",
    "img = cv2.imread(maru_path)\n",
    "gray = cv2.cvtColor(img, cv2.COLOR_BGR2GRAY)\n",
    "rgb = cv2.cvtColor(img, cv2.COLOR_BGR2RGB)\n",
    "\n",
    "cv2.imshow(\"gray\", gray)\n",
    "cv2.imshow(\"rgb\", rgb)\n",
    "\n",
    "cv2.waitKey(0)\n",
    "cv2.destroyAllWindows()"
   ]
  },
  {
   "cell_type": "code",
   "execution_count": 84,
   "metadata": {},
   "outputs": [],
   "source": [
    "## 실습4. 이미지 흑백 반전\n",
    "img = cv2.imread(maru_path)\n",
    "img_gray = cv2.cvtColor(img, cv2.COLOR_BGR2GRAY)\n",
    "img_reverse = 255 - img_gray\n",
    "\n",
    "cv2.imshow(\"Original\", img_gray)\n",
    "cv2.imshow(\"Gray\", img_reverse)\n",
    "\n",
    "cv2.waitKey(0)\n",
    "cv2.destroyAllWindows()"
   ]
  },
  {
   "cell_type": "code",
   "execution_count": 88,
   "metadata": {},
   "outputs": [],
   "source": [
    "## 5-6. 이미지 흐리기(GaussianBlar)\n",
    "### 커널을 사용하는 방식 : (3,3),(5,5),(7,7)을 주로 사용\n",
    "img = cv2.imread(maru_path)\n",
    "\n",
    "kernel_3 = cv2.GaussianBlur(img, (3,3), 0)\n",
    "kernel_5 = cv2.GaussianBlur(img, (5,5), 0)\n",
    "kernel_7 = cv2.GaussianBlur(img, (7,7), 0)\n",
    "\n",
    "cv2.imshow(\"kernel_3\", kernel_3)\n",
    "cv2.imshow(\"kernel_5\", kernel_5)\n",
    "cv2.imshow(\"kernel_7\", kernel_7)\n",
    "\n",
    "cv2.waitKey(0)\n",
    "cv2.destroyAllWindows()\n",
    "\n",
    "### 표준편차를 사용하는 방식\n",
    "sigma_3 = cv2.GaussianBlur(img, (0,0), 1)\n",
    "sigma_5 = cv2.GaussianBlur(img, (0,0), 2)\n",
    "sigma_7 = cv2.GaussianBlur(img, (0,0), 3)\n",
    "\n",
    "cv2.imshow(\"sigma_3\", sigma_3)\n",
    "cv2.imshow(\"sigma_5\", sigma_5)\n",
    "cv2.imshow(\"sigma_7\", sigma_7)\n",
    "\n",
    "cv2.waitKey(0)\n",
    "cv2.destroyAllWindows()"
   ]
  },
  {
   "cell_type": "code",
   "execution_count": 90,
   "metadata": {},
   "outputs": [],
   "source": [
    "## 5-7. 이미지 회전\n",
    "### rotatecode : cv2.ROTATE_90_CLOCKWISE(시계방향 90도 회전) / cv2.ROTATE_180(180도 회전) / cv2.ROTATE_90_COUNTERCLOCKWISE(반시계방향 90도 회전)\n",
    "\n",
    "### Rotate를 활용한 회전\n",
    "img = cv2.imread(maru_path)\n",
    "\n",
    "dst_90 = cv2.rotate(img, cv2.ROTATE_90_CLOCKWISE)\n",
    "dst_180 = cv2.rotate(img, cv2.ROTATE_180)\n",
    "dst_90_counter = cv2.rotate(img, cv2.ROTATE_90_COUNTERCLOCKWISE)\n",
    "\n",
    "cv2.imshow(\"90\", dst_90)\n",
    "cv2.imshow(\"180\", dst_180)\n",
    "cv2.imshow(\"90_counter\", dst_90_counter)\n",
    "\n",
    "cv2.waitKey(0)\n",
    "cv2.destroyAllWindows()"
   ]
  },
  {
   "cell_type": "code",
   "execution_count": 94,
   "metadata": {},
   "outputs": [],
   "source": [
    "### affine 변환 사용\n",
    "img = cv2.imread(maru_path)\n",
    "center = (img.shape[1]/2, img.shape[0]/2)\n",
    "affine = cv2.getRotationMatrix2D(center, 45, 1)  #45 : 방향과 앵글 / 1 : scale\n",
    "dst = cv2.warpAffine(img, affine, (img.shape[1], img.shape[0]))\n",
    "\n",
    "cv2.imshow(\"Rotate\", dst)\n",
    "\n",
    "cv2.waitKey(0)\n",
    "cv2.destroyAllWindows()"
   ]
  },
  {
   "cell_type": "code",
   "execution_count": null,
   "metadata": {},
   "outputs": [],
   "source": [
    "import math\n",
    "img = cv2.imread(maru_path)\n",
    "rad = 45 * math.pi / 180\n",
    "affine = np.array([[math.cos(rad), -math.sin(rad), 0],[math.sin(rad), math.cos(rad), 0]], dtype=np.float32)\n",
    "\n",
    "dst = cv2.warpAffine(img, affine, (img.shape[1], img.shape[0]))  #img.shape[1] : 가로 / img.shape[0] : 세로\n",
    "\n",
    "cv2.imshow(\"Rotate\", dst)\n",
    "\n",
    "cv2.waitKey(0)\n",
    "cv2.destroyAllWindows()"
   ]
  },
  {
   "cell_type": "code",
   "execution_count": null,
   "metadata": {},
   "outputs": [],
   "source": []
  }
 ],
 "metadata": {
  "kernelspec": {
   "display_name": "my_cv",
   "language": "python",
   "name": "python3"
  },
  "language_info": {
   "codemirror_mode": {
    "name": "ipython",
    "version": 3
   },
   "file_extension": ".py",
   "mimetype": "text/x-python",
   "name": "python",
   "nbconvert_exporter": "python",
   "pygments_lexer": "ipython3",
   "version": "3.12.8"
  }
 },
 "nbformat": 4,
 "nbformat_minor": 2
}
