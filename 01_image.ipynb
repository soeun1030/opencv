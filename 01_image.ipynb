{
 "cells": [
  {
   "cell_type": "code",
   "execution_count": 2,
   "metadata": {},
   "outputs": [],
   "source": [
    "# 1. 이미지 입출력\n",
    "import cv2\n",
    "maru_path = \"images/maru.jpg\"\n",
    "hang_png_path = \"images/hang.png\""
   ]
  },
  {
   "cell_type": "code",
   "execution_count": 5,
   "metadata": {},
   "outputs": [
    {
     "name": "stdout",
     "output_type": "stream",
     "text": [
      "113\n"
     ]
    }
   ],
   "source": [
    "img = cv2.imread(maru_path)\n",
    "cv2.imshow(\"Image\", img)  #이미지 출력\n",
    "cv2.waitKey(0)  #키보드 입력 #0 : 키 입력 무한대기\n",
    "key = cv2.waitKey(0)  #만약 key입력이 없으면(ex.waitKey(5000) -1이 출력됨)\n",
    "print(key)\n",
    "cv2.destroyAllWindows()"
   ]
  },
  {
   "cell_type": "code",
   "execution_count": 3,
   "metadata": {},
   "outputs": [],
   "source": [
    "# 1-1. 이미지 불러오기 옵션\n",
    "## cv2.IMREAD_COLOR : 이미지를 컬러로, 기본 옵션, 투명 배경 무시\n",
    "## cv2.IMREAD_GRAYSCALE : 이미지를 흑백으로\n",
    "## cv2.IMREAD_UNCHANGED : 이미지를 컬러로, 투명배경 인식, 이미지를 불러올 때 alpha값을 같이 불러옴\n",
    "img_default = cv2.imread(maru_path, cv2.IMREAD_COLOR)\n",
    "img_gray = cv2.imread(maru_path, cv2.IMREAD_GRAYSCALE)\n",
    "img_unchanged = cv2.imread(maru_path, cv2.IMREAD_UNCHANGED)\n",
    "\n",
    "cv2.imshow(\"Image default\", img_default)\n",
    "cv2.imshow(\"Image gray\", img_gray)\n",
    "cv2.imshow(\"Image unchanged\", img_unchanged)\n",
    "\n",
    "cv2.waitKey(0)\n",
    "cv2.destroyAllWindows()"
   ]
  },
  {
   "cell_type": "code",
   "execution_count": 26,
   "metadata": {},
   "outputs": [
    {
     "name": "stdout",
     "output_type": "stream",
     "text": [
      "3946 2818 3\n"
     ]
    },
    {
     "data": {
      "text/plain": [
       "(3946, 2818)"
      ]
     },
     "execution_count": 26,
     "metadata": {},
     "output_type": "execute_result"
    }
   ],
   "source": [
    "# 이미지 shape : 이미지의 세로, 가로, 채널을 출력\n",
    "img_default = cv2.imread(hang_png_path, cv2.IMREAD_COLOR)\n",
    "img_gray = cv2.imread(hang_png_path, cv2.IMREAD_GRAYSCALE)\n",
    "img_unchanged = cv2.imread(hang_png_path, cv2.IMREAD_UNCHANGED)\n",
    "\n",
    "height, width, channel = img_default.shape  #img_unchanged.shape쓰면 채널이 3 -> 4로 하나 더 추가됨(default일 때는 3), 4인 이유 : RGB + Alpha까지 해서 총 4개의 채널\n",
    "print(height, width, channel)\n",
    "\n",
    "img_gray.shape  #gray : 흑백은 RGB가 잡히지 않기 때문에 채널이 출력되지 않음"
   ]
  },
  {
   "cell_type": "code",
   "execution_count": 4,
   "metadata": {},
   "outputs": [
    {
     "data": {
      "text/plain": [
       "113"
      ]
     },
     "execution_count": 4,
     "metadata": {},
     "output_type": "execute_result"
    }
   ],
   "source": [
    "img = cv2.imread(maru_path)\n",
    "cv2.imshow(\"img\", img)\n",
    "key = cv2.waitKey(0)\n",
    "if key == ord(\"q\"):  #ord : 해당 문자의 아스키코드를 가져옴\n",
    "    cv2.destroyAllWindows()\n",
    "ord(\"q\")"
   ]
  },
  {
   "cell_type": "code",
   "execution_count": 7,
   "metadata": {},
   "outputs": [
    {
     "data": {
      "text/plain": [
       "True"
      ]
     },
     "execution_count": 7,
     "metadata": {},
     "output_type": "execute_result"
    }
   ],
   "source": [
    "# 1-2. 이미지 쓰기\n",
    "## 불러온 이미지를 파일로 생성\n",
    "img = cv2.imread(maru_path)\n",
    "cv2.imwrite(\"output/new_maru.jpg\", img)\n",
    "\n",
    "img_gray = cv2.imread(maru_path, cv2.IMREAD_GRAYSCALE)  #이미지 흑백으로 저장\n",
    "cv2.imwrite(\"output/gray_maru.jpg\", img_gray)"
   ]
  },
  {
   "cell_type": "code",
   "execution_count": null,
   "metadata": {},
   "outputs": [],
   "source": []
  }
 ],
 "metadata": {
  "kernelspec": {
   "display_name": "my_cv",
   "language": "python",
   "name": "python3"
  },
  "language_info": {
   "codemirror_mode": {
    "name": "ipython",
    "version": 3
   },
   "file_extension": ".py",
   "mimetype": "text/x-python",
   "name": "python",
   "nbconvert_exporter": "python",
   "pygments_lexer": "ipython3",
   "version": "3.12.8"
  }
 },
 "nbformat": 4,
 "nbformat_minor": 2
}
