{
 "cells": [
  {
   "cell_type": "code",
   "execution_count": 61,
   "metadata": {},
   "outputs": [],
   "source": [
    "import cv2\n",
    "import numpy as np\n",
    "maru_path = \"images/maru.jpg\"\n",
    "maru_pad_path = \"images/maru_pad.jpg\"\n"
   ]
  },
  {
   "cell_type": "code",
   "execution_count": 18,
   "metadata": {},
   "outputs": [],
   "source": [
    "def on_mouse(event, x, y, flags, _):\n",
    "    if event == cv2.EVENT_LBUTTONDOWN:\n",
    "    #     print(event, cv2.EVENT_LBUTTONDOWN)  #마우스 왼쪽으로 사진 누르면 숫자 1 뜸\n",
    "    #     print(\"이벤트 작동\")  #사진 마우스로 누르면 이벤트 작동이 뜸\n",
    "    #     print(x,y)\n",
    "        copied = img.copy()  #깊은 복사 -> 점이 찍히고 다음 점 찍으면 사라짐  #그냥 copied = img로 하면 얕은 복사 -> 점이 계속 찍힘\n",
    "        cv2.circle(copied, (x,y), 20, (255, 255, 0), cv2.FILLED)\n",
    "        cv2.imshow(name, copied)\n",
    "\n",
    "\n",
    "\n",
    "img = cv2.imread(maru_path)\n",
    "name = \"Mouse event\"\n",
    "cv2.namedWindow(name)\n",
    "cv2.setMouseCallback(name, on_mouse)\n",
    "cv2.imshow(name, img)\n",
    "cv2.waitKey(0)\n",
    "cv2.destroyAllWindows()"
   ]
  },
  {
   "cell_type": "code",
   "execution_count": 67,
   "metadata": {},
   "outputs": [],
   "source": [
    "## 미니 프로젝트. 반자동 문서 스캐너 만들기\n",
    "\n",
    "img = cv2.imread(maru_pad_path)\n",
    "point_list = []\n",
    "\n",
    "# 최종 결과를 출력하는 함수입니다\n",
    "def show_result():\n",
    "  width, height = 600, 500\n",
    "  src = np.array(point_list, dtype=np.float32)\n",
    "  dst = np.array([[0,0], [width, 0], [width, height], [0,height]], dtype=np.float32)\n",
    "  mat = cv2.getPerspectiveTransform(src, dst)  \n",
    "  result = cv2.warpPerspective(img, mat, (width, height)) \n",
    "  cv2.imshow(\"Result\", result)\n",
    "\n",
    "# 마우스 이벤트와 함께 실행되는 콜백함수입니다.\n",
    "drawing = False\n",
    "def on_mouse(event, x, y, flags, _):\n",
    "  global drawing\n",
    "  copied = img.copy()\n",
    "  if event == cv2.EVENT_LBUTTONDOWN:\n",
    "    drawing = True\n",
    "    point_list.append((x,y))\n",
    "\n",
    "  if drawing:\n",
    "    mouse_pos = None\n",
    "    for point in point_list:\n",
    "      cv2.circle(copied, point, 10, (0, 0, 255), cv2.FILLED)\n",
    "      if mouse_pos:\n",
    "        cv2.line(copied, mouse_pos, point, (0, 0, 255), 5)\n",
    "      mouse_pos = point\n",
    "\n",
    "    next_point = (x,y)\n",
    "    if len(point_list) == 4:\n",
    "      next_point = point_list[0]\n",
    "      show_result()\n",
    "    cv2.line(copied, point_list[-1], next_point, (0, 0, 255), 5)\n",
    "\n",
    "  cv2.imshow(name, copied)\n",
    "\n",
    "# 기본적인 코드 실행입니다.\n",
    "name = \"Scanner\"\n",
    "cv2.namedWindow(name)\n",
    "cv2.setMouseCallback(name, on_mouse)\n",
    "cv2.imshow(name, img)\n",
    "cv2.waitKey(0)\n",
    "cv2.destroyAllWindows()"
   ]
  },
  {
   "cell_type": "code",
   "execution_count": null,
   "metadata": {},
   "outputs": [],
   "source": []
  },
  {
   "cell_type": "code",
   "execution_count": null,
   "metadata": {},
   "outputs": [],
   "source": []
  }
 ],
 "metadata": {
  "kernelspec": {
   "display_name": "my_cv",
   "language": "python",
   "name": "python3"
  },
  "language_info": {
   "codemirror_mode": {
    "name": "ipython",
    "version": 3
   },
   "file_extension": ".py",
   "mimetype": "text/x-python",
   "name": "python",
   "nbconvert_exporter": "python",
   "pygments_lexer": "ipython3",
   "version": "3.12.8"
  }
 },
 "nbformat": 4,
 "nbformat_minor": 2
}
