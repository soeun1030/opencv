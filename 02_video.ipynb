{
 "cells": [
  {
   "cell_type": "code",
   "execution_count": 18,
   "metadata": {},
   "outputs": [],
   "source": [
    "# 2. 비디오 입출력\n",
    "## 비디오의 재생 : 연속된 이미지를 재생하는 것\n",
    "## 프레임 : 연속된 이미지 중 하나\n",
    "## 비디오를 재생하기 위해서는 프레임을 연속적으로 재생"
   ]
  },
  {
   "cell_type": "code",
   "execution_count": 1,
   "metadata": {},
   "outputs": [
    {
     "name": "stdout",
     "output_type": "stream",
     "text": [
      "True\n"
     ]
    }
   ],
   "source": [
    "## 2-1. 비디오 파일 입출력\n",
    "### cv2.VideoCapture(\"파일경로\") : 경로의 파일을 불러옴\n",
    "### VideoCapture.isOpened() : 파일이 열렸는지 확인\n",
    "### VideoCapture.read() : 파일을 읽어서 frame을 반환\n",
    "#### ret : 프레임이 있는지 체크\n",
    "#### frame : 불러온 이미지\n",
    "### VideoCapture.release() : 영상 객체를 해제\n",
    "\n",
    "import cv2\n",
    "video1_path = \"videos/video1.mp4\"\n",
    "\n",
    "cap = cv2.VideoCapture(video1_path)\n",
    "print(cap.isOpened())\n",
    "\n",
    "while cap.isOpened():   #파일이 열려있는동안 코드를 실행하겠다라는 조건문\n",
    "    ret, frame = cap.read()\n",
    "\n",
    "    if not ret :   #만약에 이미지(return값)가 없다면 break한다는 뜻\n",
    "        break\n",
    "\n",
    "    cv2.imshow(\"Video\", frame)\n",
    "\n",
    "    if cv2.waitKey(1) == ord(\"q\"):\n",
    "        break\n",
    "\n",
    "cap.release()\n",
    "cv2.destroyAllWindows()"
   ]
  },
  {
   "cell_type": "code",
   "execution_count": 20,
   "metadata": {},
   "outputs": [
    {
     "name": "stdout",
     "output_type": "stream",
     "text": [
      "30.0\n"
     ]
    }
   ],
   "source": [
    "## 2-2. 영상의 프레임 불러오기\n",
    "### ViedeoCapture.get(cv2.CAP_PROP_FPS)\n",
    "\n",
    "cap = cv2.VideoCapture(video1_path)\n",
    "fps = cap.get(cv2.CAP_PROP_FPS)\n",
    "print(fps)\n",
    "\n",
    "while cap.isOpened():\n",
    "    ret, frame = cap.read()\n",
    "\n",
    "    if not ret:\n",
    "        break\n",
    "    \n",
    "    cv2.imshow(\"video\", frame)\n",
    "    \n",
    "    if cv2.waitKey(int(1000/fps)) == ord(\"q\"):\n",
    "        break\n",
    "\n",
    "cap.release()\n",
    "cv2.destroyAllWindows()"
   ]
  },
  {
   "cell_type": "code",
   "execution_count": 21,
   "metadata": {},
   "outputs": [
    {
     "name": "stdout",
     "output_type": "stream",
     "text": [
      "True\n"
     ]
    }
   ],
   "source": [
    "## 2-3. 카메라 입출력\n",
    "\n",
    "cap = cv2.VideoCapture(0)\n",
    "print(cap.isOpened())\n",
    "\n",
    "if not cap.isOpened():\n",
    "    exit()\n",
    "\n",
    "while True : \n",
    "    ret, frame = cap.read()\n",
    "\n",
    "    if not ret:\n",
    "        break\n",
    "\n",
    "    cv2.imshow(\"Camera\", frame)\n",
    "\n",
    "    if cv2.waitKey(1) == ord(\"q\"):\n",
    "        break\n",
    "\n",
    "cap.release()\n",
    "cv2.destroyAllWindows()"
   ]
  },
  {
   "cell_type": "code",
   "execution_count": 23,
   "metadata": {},
   "outputs": [],
   "source": [
    "## 2-4. 비디오 쓰기\n",
    "### cv2.VideoWriter(파일경로, fourcc, fps) : 영상 쓰기\n",
    "\n",
    "### VideoWriter 생성\n",
    "cap = cv2.VideoCapture(video1_path)\n",
    "fourcc  = cv2.VideoWriter_fourcc(*\"DIVX\")  #원랜 \"D\",\"I\",\"V\",\"X\" 이렇게 해야하는데 귀찮으니까 *\"DIVX\"로 사용  #fourcc : 비디오를 인코딩해주는 4글자짜리 코덱\n",
    "fps = cap.get(cv2.CAP_PROP_FPS)\n",
    "width = round(cap.get(cv2.CAP_PROP_FRAME_WIDTH))  #round, int 등 정수형으로 변환시켜서 사용해줘야함\n",
    "height = round(cap.get(cv2.CAP_PROP_FRAME_HEIGHT))  #round, int 등 정수형으로 변환시켜서 사용해줘야함\n",
    "out = cv2.VideoWriter(\"output/video1.mp4\", fourcc, fps, (width, height))\n",
    "\n",
    "while cap.isOpened():\n",
    "    ret, frame = cap.read()\n",
    "\n",
    "    if not ret:\n",
    "        break\n",
    "\n",
    "    out.write(frame)  #소리는 들어가지 않음\n",
    "    cv2.imshow(\"Video\", frame)\n",
    "\n",
    "    if cv2.waitKey(int(1000/fps)) == ord(\"q\"):\n",
    "        break\n",
    "\n",
    "out.release()\n",
    "cap.release()\n",
    "cv2.destroyAllWindows()"
   ]
  },
  {
   "cell_type": "code",
   "execution_count": 29,
   "metadata": {},
   "outputs": [],
   "source": [
    "# 실습2. 웹캠으로 사진 찍기\n",
    "cap = cv2.VideoCapture(0)\n",
    "\n",
    "if not cap.isOpened():\n",
    "    exit()\n",
    "\n",
    "while True : \n",
    "    ret, frame = cap.read()\n",
    "\n",
    "    if not ret:\n",
    "        break\n",
    "\n",
    "    cv2.imshow(\"Camera\", frame)\n",
    "\n",
    "    if cv2.waitKey(1) == ord(\"q\"):  #waitkey(1) != -1로 작성해도 됨 -> 어떤 입력이든 주어졌다는 뜻이므로 아무거나 눌러도 사진이 캡쳐되면서 창 닫힘\n",
    "        cv2.imwrite(\"output/practice.jpg\", frame)\n",
    "        break\n",
    "\n",
    "cap.release()\n",
    "cv2.destroyAllWindows()"
   ]
  },
  {
   "cell_type": "code",
   "execution_count": null,
   "metadata": {},
   "outputs": [],
   "source": []
  }
 ],
 "metadata": {
  "kernelspec": {
   "display_name": "my_cv",
   "language": "python",
   "name": "python3"
  },
  "language_info": {
   "codemirror_mode": {
    "name": "ipython",
    "version": 3
   },
   "file_extension": ".py",
   "mimetype": "text/x-python",
   "name": "python",
   "nbconvert_exporter": "python",
   "pygments_lexer": "ipython3",
   "version": "3.12.8"
  }
 },
 "nbformat": 4,
 "nbformat_minor": 2
}
