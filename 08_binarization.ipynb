{
 "cells": [
  {
   "cell_type": "code",
   "execution_count": 14,
   "metadata": {},
   "outputs": [],
   "source": [
    "# 8. 이진화\n",
    "## 이진화 : 임계값을 기준으로 색상을 흰색과 검정색으로 나누는 것\n",
    "\n",
    "import cv2\n",
    "import numpy as np\n",
    "\n",
    "book = \"images/book.jpg\"\n",
    "maru_path = \"images/maru.jpg\""
   ]
  },
  {
   "cell_type": "code",
   "execution_count": 33,
   "metadata": {},
   "outputs": [],
   "source": [
    "## 8-1. 기본 이진화\n",
    "### 기본 이진화에 사용되는 함수 : ret, binary = cv2.threshold()\n",
    "\n",
    "img = cv2.imread(book, cv2.IMREAD_GRAYSCALE)\n",
    "\n",
    "ret, binary = cv2.threshold(img, 127, 255, cv2.THRESH_BINARY)  #127, 255 : 임계값\n",
    "\n",
    "cv2.imshow(\"img\", img)\n",
    "cv2.imshow(\"binary\", binary)\n",
    "\n",
    "cv2.waitKey(0)\n",
    "cv2.destroyAllWindows()"
   ]
  },
  {
   "cell_type": "code",
   "execution_count": 47,
   "metadata": {},
   "outputs": [],
   "source": [
    "## 트랙바\n",
    "img = cv2.imread(maru_path)\n",
    "\n",
    "name = \"Trackbar\"\n",
    "trackbar_name = \"Rotation\"\n",
    "cv2.namedWindow(name)  #창 생성\n",
    "\n",
    "cv2.createTrackbar(trackbar_name, name, 0, 360, lambda x:x)\n",
    "\n",
    "while True:\n",
    "    cv2.getTrackbarPos(\"Rotation\", name)\n",
    "    angle = cv2.getTrackbarPos(trackbar_name, name)\n",
    "    center = (img.shape[1]/2, img.shape[0]/2)\n",
    "    affine = cv2.getRotationMatrix2D(center, angle, 2) \n",
    "    dst = cv2.warpAffine(img, affine, (img.shape[1], img.shape[0]))\n",
    "\n",
    "    cv2.imshow(name, dst)\n",
    "\n",
    "    if cv2.waitKey(1) == ord(\"q\"):\n",
    "        break\n",
    "    \n",
    "cv2.destroyAllWindows()"
   ]
  },
  {
   "cell_type": "code",
   "execution_count": 48,
   "metadata": {},
   "outputs": [],
   "source": [
    "## 실습 2-2. Threshold에 적용\n",
    "img = cv2.imread(maru_path, cv2.IMREAD_GRAYSCALE)\n",
    "\n",
    "name = \"Trackbar\"\n",
    "trackbar_name = \"Threshold\"\n",
    "cv2.namedWindow(name) \n",
    "cv2.createTrackbar(trackbar_name, name, 0, 255, lambda x:x)  #0,255 : 트랙바 상에서 숫자 범위\n",
    "\n",
    "while True:\n",
    "    threshold = cv2.getTrackbarPos(\"Threshold\", name)\n",
    "    ret, binary = cv2.threshold(img, threshold, 255, cv2.THRESH_BINARY)  #255 : 이진화를 했을 때, 0과 255로 나눠진다는 뜻의 숫자\n",
    "\n",
    "    cv2.imshow(name, binary)\n",
    "\n",
    "    if cv2.waitKey(1) == ord(\"q\"):\n",
    "        \n",
    "        break\n",
    "    \n",
    "cv2.destroyAllWindows()"
   ]
  },
  {
   "cell_type": "code",
   "execution_count": 88,
   "metadata": {},
   "outputs": [],
   "source": [
    "## 실습 2-1. 컬러 팔레트 만들기\n",
    "img = np.zeros((300,600,3), dtype=np.uint8)\n",
    "cv2.namedWindow(name)\n",
    "\n",
    "name = \"Trackbar\"\n",
    "trackbar_name = \"image\"\n",
    "cv2.namedWindow(name)\n",
    "cv2.createTrackbar(\"B\", name, 0, 255, lambda x:x)\n",
    "cv2.createTrackbar(\"G\", name, 0, 255, lambda x:x)\n",
    "cv2.createTrackbar(\"R\", name, 0, 255, lambda x:x)\n",
    "cv2.createTrackbar(\"ON/OFF\", name, 0, 1, lambda x:x)\n",
    "\n",
    "while True:\n",
    "    on_off = cv2.getTrackbarPos(\"ON/OFF\", name)\n",
    "    b = cv2.getTrackbarPos(\"B\", name)\n",
    "    g = cv2.getTrackbarPos(\"G\", name)\n",
    "    r = cv2.getTrackbarPos(\"R\", name)\n",
    "\n",
    "    if on_off == 1:\n",
    "        img[:] = [b, g, r]\n",
    "\n",
    "    else:\n",
    "        img[:] = [0, 0, 0]\n",
    "\n",
    "    cv2.imshow(name, img)\n",
    "\n",
    "    if cv2.waitKey(1) == ord(\"q\"):\n",
    "        break\n",
    "        \n",
    "cv2.destroyAllWindows()"
   ]
  },
  {
   "cell_type": "code",
   "execution_count": 90,
   "metadata": {},
   "outputs": [],
   "source": [
    "## 8-2. 적응형 이진화(Adaptive threshold)\n",
    "### 적응형 이진화 : 블록마다 다른 임계값을 적용\n",
    "\n",
    "img = cv2.imread(book, cv2.IMREAD_GRAYSCALE)  #cv2.IMREAD_GRAYSCALE이 0이므로 0을 넣어도 상관없음\n",
    "name = \"Adaptive\"\n",
    "cv2.namedWindow(name)\n",
    "\n",
    "cv2.createTrackbar(\"block_size\", name, 25, 100, lambda x:x)  #25: block_size의 기본값 / 1보다 큰 홀수만 가능\n",
    "cv2.createTrackbar(\"C\", name, 1, 10, lambda x:x)  #일반적으로 양수를 사용\n",
    "\n",
    "while True:\n",
    "    block_size = cv2.getTrackbarPos(\"block_size\", name)\n",
    "    c = cv2.getTrackbarPos(\"C\", name)\n",
    "\n",
    "    if block_size <= 1:\n",
    "        block_size = 3\n",
    "\n",
    "    if block_size % 2 == 0:\n",
    "        block_size += 1\n",
    "\n",
    "    binary = cv2.adaptiveThreshold(img, 255, cv2.ADAPTIVE_THRESH_MEAN_C, cv2.THRESH_BINARY, block_size, c)\n",
    "    cv2.imshow(name, binary)\n",
    "    if cv2.waitKey(1) == ord(\"q\"):\n",
    "        break\n",
    "\n",
    "cv2.destroyAllWindows()"
   ]
  },
  {
   "cell_type": "code",
   "execution_count": null,
   "metadata": {},
   "outputs": [],
   "source": []
  }
 ],
 "metadata": {
  "kernelspec": {
   "display_name": "my_cv",
   "language": "python",
   "name": "python3"
  },
  "language_info": {
   "codemirror_mode": {
    "name": "ipython",
    "version": 3
   },
   "file_extension": ".py",
   "mimetype": "text/x-python",
   "name": "python",
   "nbconvert_exporter": "python",
   "pygments_lexer": "ipython3",
   "version": "3.12.8"
  }
 },
 "nbformat": 4,
 "nbformat_minor": 2
}
