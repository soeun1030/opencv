{
 "cells": [
  {
   "cell_type": "code",
   "execution_count": 1,
   "metadata": {},
   "outputs": [],
   "source": [
    "# 3. 도형그리기\n",
    "\n",
    "import cv2\n",
    "import numpy as np"
   ]
  },
  {
   "cell_type": "code",
   "execution_count": 4,
   "metadata": {},
   "outputs": [],
   "source": [
    "## 3-1. 빈 화면 만들기\n",
    "img = np.zeros((460, 640, 3), dtype=np.uint8)  #460,640,3 : 크기  #uint8 : 지금 int는 2의 8승 값인 256개의 값(음수 포함)을 가질 수 있는데 앞에 u가 붙으면 양수의 값만을 가지기에 0 ~ 255까지의 값만 가짐\n",
    "img[:] = (255,255,255)  #이렇게 하면 흰색 빈 화면 뜸 이거안하면 검정색 빈 화면 뜸\n",
    "cv2.imshow(\"blank\", img)\n",
    "cv2.waitKey(0)\n",
    "cv2.destroyAllWindows()"
   ]
  },
  {
   "cell_type": "code",
   "execution_count": 15,
   "metadata": {},
   "outputs": [],
   "source": [
    "## 3-2. 막간 실습1. 화면의 일부 영역에 흰색 사각형 그리기\n",
    "img = np.zeros((460, 640, 3), dtype=np.uint8)  #460,640,3 : 크기  #uint8 : 지금 int는 2의 8승 값인 256개의 값(음수 포함)을 가질 수 있는데 앞에 u가 붙으면 양수의 값만을 가지기에 0 ~ 255까지의 값만 가짐\n",
    "img[100:200, 200:300] = (255,255,255)  #이렇게 하면 흰색 빈 화면 뜸 이거안하면 검정색 빈 화면 뜸/[세로, 가로] = (B,G,R)\n",
    "cv2.imshow(\"blank\", img)\n",
    "cv2.waitKey(0)\n",
    "cv2.destroyAllWindows()"
   ]
  },
  {
   "cell_type": "code",
   "execution_count": 23,
   "metadata": {},
   "outputs": [],
   "source": [
    "\n",
    "## 3-3. 선 그리기\n",
    "img = np.zeros((460, 640, 3), dtype=np.uint8)\n",
    "\n",
    "color = (255,0,0)\n",
    "thickness = 5\n",
    "\n",
    "cv2.line(img, (50,100), (400,50), color, thickness, cv2.LINE_4)  #시작점(위치), 끝점(위치), 색깔, 두께, 라인타입\n",
    "cv2.line(img, (50,200), (400,150), color, thickness, cv2.LINE_8)\n",
    "cv2.line(img, (50,300), (400,250), color, thickness, cv2.LINE_AA)\n",
    "cv2.imshow(\"Line\", img)\n",
    "cv2.waitKey(0)\n",
    "cv2.destroyAllWindows()"
   ]
  },
  {
   "cell_type": "code",
   "execution_count": 27,
   "metadata": {},
   "outputs": [],
   "source": [
    "## 3-4. 원 그리기\n",
    "img = np.zeros((460, 640, 3), dtype=np.uint8)\n",
    "\n",
    "radius = 50\n",
    "color = (0,255,0)\n",
    "thickness = 10\n",
    "\n",
    "### 속이 비어있는 원\n",
    "cv2.circle(img, (200,300), radius, color, thickness, cv2.LINE_AA)  #중심좌표, 반지름, 색깔, 두께, 라인타입\n",
    "cv2.imshow(\"circle\", img)\n",
    "cv2.waitKey(0)\n",
    "cv2.destroyAllWindows()\n",
    "\n",
    "### 속이 찬 원\n",
    "cv2.circle(img, (400,300), radius, color, cv2.FILLED, cv2.LINE_AA)\n",
    "cv2.imshow(\"circle\", img)\n",
    "cv2.waitKey(0)\n",
    "cv2.destroyAllWindows()"
   ]
  },
  {
   "cell_type": "code",
   "execution_count": 35,
   "metadata": {},
   "outputs": [],
   "source": [
    "## 3-5. 타원 그리기\n",
    "img = np.zeros((460, 640, 3), dtype=np.uint8)\n",
    "\n",
    "cv2.ellipse(img, (300,200), (100,50), 45, 0, 360, (0,0,255), 5, cv2.LINE_AA)  #중심좌표, (axis : 타원의 가로크기, 세로크기), 앵글, 시작지점, 끝지점, 색깔, 두께, 라인타입\n",
    "cv2.imshow(\"ellipse\", img)\n",
    "cv2.waitKey(0)\n",
    "cv2.destroyAllWindows()"
   ]
  },
  {
   "cell_type": "code",
   "execution_count": 40,
   "metadata": {},
   "outputs": [],
   "source": [
    "## 3-6. 사각형 그리기\n",
    "img = np.zeros((460, 640, 3), dtype=np.uint8)\n",
    "\n",
    "cv2.rectangle(img, (50,50), (250,250), (255,255,0), 10, cv2.LINE_AA)  #시작점(왼쪽 위), 끝점(오른쪽 아래), 색깔, 두께, 라인티입\n",
    "cv2.imshow(\"rectangle\", img)\n",
    "cv2.waitKey(0)\n",
    "cv2.destroyAllWindows()"
   ]
  },
  {
   "cell_type": "code",
   "execution_count": 46,
   "metadata": {},
   "outputs": [],
   "source": [
    "## 3-7. 다각형(선) 그리기\n",
    "img = np.zeros((460, 640, 3), dtype=np.uint8)\n",
    "\n",
    "pts = np.array([[100,100],[200,100],[100,200]])  #포인트정하기([첫번째점(왼쪽 위)], [두번째점(오른쪽 위)], [세번째 점(왼쪽 아래)])\n",
    "\n",
    "cv2.polylines(img, [pts], True, (255,0,255), 5, cv2.LINE_AA)  #True/False : 마지막 선을 연결하느냐 마느냐\n",
    "cv2.imshow(\"polylines\", img)\n",
    "cv2.waitKey(0)\n",
    "cv2.destroyAllWindows()"
   ]
  },
  {
   "cell_type": "code",
   "execution_count": 117,
   "metadata": {},
   "outputs": [],
   "source": [
    "## 3-8. 다각형(채우기)\n",
    "img = np.zeros((460, 640, 3), dtype=np.uint8)\n",
    "\n",
    "pts = np.array([[100,100],[200,100],[100,200]])  \n",
    "\n",
    "cv2.fillPoly(img, [pts], (255,0,255))  \n",
    "cv2.imshow(\"fillPoly\", img)\n",
    "cv2.waitKey(0)\n",
    "cv2.destroyAllWindows()"
   ]
  },
  {
   "cell_type": "code",
   "execution_count": 138,
   "metadata": {},
   "outputs": [],
   "source": [
    "## 실습1. 도형 그려보기\n",
    "img = np.zeros((460, 640, 3), dtype=np.uint8)\n",
    "img[:] = (255,255,255)  \n",
    "\n",
    "cv2.line(img, (100,100), (100,200), (0,0,255), 5, cv2.LINE_4)\n",
    "\n",
    "cv2.circle(img, (200,150), 50, (0,0,255), 5, cv2.LINE_AA)\n",
    "cv2.circle(img, (350,150), 50, (255,0,0), cv2.FILLED, cv2.LINE_AA)\n",
    "\n",
    "cv2.ellipse(img, (500,100), (50, 30), 0, 0, 360, (0,0,255), 5, cv2.LINE_AA)\n",
    "cv2.ellipse(img, (500,200), (50, 30), 0, 0, 360, (255,0,0), cv2.FILLED, cv2.LINE_AA)\n",
    "\n",
    "cv2.rectangle(img, (100,250), (200,350), (0,0,255), 5, cv2.LINE_AA)\n",
    "cv2.rectangle(img, (300,250), (400,350), (255,0,0), cv2.FILLED, cv2.LINE_AA)\n",
    "\n",
    "pts = np.array([[450,250],[550,250],[450,300]])  \n",
    "cv2.polylines(img, [pts], True, (0,0,255), 5, cv2.LINE_AA)\n",
    "\n",
    "pts = np.array([[450,350],[550,350],[550,300]])  \n",
    "cv2.fillPoly(img, [pts], (255,0,0))  \n",
    "\n",
    "\n",
    "cv2.imshow(\"total\", img)\n",
    "cv2.waitKey(0)\n",
    "cv2.destroyAllWindows()"
   ]
  }
 ],
 "metadata": {
  "kernelspec": {
   "display_name": "my_cv",
   "language": "python",
   "name": "python3"
  },
  "language_info": {
   "codemirror_mode": {
    "name": "ipython",
    "version": 3
   },
   "file_extension": ".py",
   "mimetype": "text/x-python",
   "name": "python",
   "nbconvert_exporter": "python",
   "pygments_lexer": "ipython3",
   "version": "3.12.8"
  }
 },
 "nbformat": 4,
 "nbformat_minor": 2
}
