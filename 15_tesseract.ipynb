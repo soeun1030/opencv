{
 "cells": [
  {
   "cell_type": "code",
   "execution_count": null,
   "metadata": {},
   "outputs": [],
   "source": [
    "# 15. Tesseract - OCR"
   ]
  },
  {
   "cell_type": "code",
   "execution_count": 48,
   "metadata": {},
   "outputs": [],
   "source": [
    "import cv2\n",
    "from pytesseract import pytesseract as pyt\n",
    "ocr_test_path = \"images/ocr_test.png\"\n",
    "alert_path = \"images/alert.jpg\"\n",
    "bill_path = \"images/bill.png\"\n",
    "car_number_path = \"images/car_number.png\"\n",
    "stop_path = \"images/stop.png\""
   ]
  },
  {
   "cell_type": "code",
   "execution_count": 34,
   "metadata": {},
   "outputs": [
    {
     "name": "stdout",
     "output_type": "stream",
     "text": [
      "'오징어게임2'도 글로벌 대박…외신\n",
      "혹평에도 이틀만에 93개국 1위\n",
      "\n"
     ]
    }
   ],
   "source": [
    "### 기사제목\n",
    "pyt.tesseract_cmd = r\"C:\\Users\\soeun\\AppData\\Local\\Programs\\Tesseract-OCR\\tesseract.exe\"\n",
    "img = cv2.imread(ocr_test_path)\n",
    "\n",
    "text = pyt.image_to_string(img, lang=\"kor+eng\")\n",
    "print(text)"
   ]
  },
  {
   "cell_type": "code",
   "execution_count": 27,
   "metadata": {},
   "outputs": [
    {
     "name": "stdout",
     "output_type": "stream",
     "text": [
      "ry        글\n",
      "음식물 반입금지\n",
      "No eating or drinking\n",
      "\n",
      "\n",
      "물        글\n",
      "ase te\n",
      "No eating or drinking\n",
      "\n",
      "\n"
     ]
    }
   ],
   "source": [
    "### 음식물 반입 금지\n",
    "pyt.tesseract_cmd = r\"C:\\Users\\soeun\\AppData\\Local\\Programs\\Tesseract-OCR\\tesseract.exe\"\n",
    "img = cv2.imread(alert_path, cv2.IMREAD_GRAYSCALE)\n",
    "ret, binary = cv2.threshold(img, -1, 255, cv2.THRESH_BINARY | cv2.THRESH_OTSU)  #이진화했을 때 더 좋아지는 경우도 있어서 이진화하는데 나는 이진화한게 더 별로\n",
    "\n",
    "text_1 = pyt.image_to_string(img, lang=\"kor+eng\")\n",
    "text_2 = pyt.image_to_string(binary, lang=\"kor+eng\")\n",
    "print(text_1)\n",
    "print(text_2)"
   ]
  },
  {
   "cell_type": "code",
   "execution_count": 33,
   "metadata": {},
   "outputs": [
    {
     "name": "stdout",
     "output_type": "stream",
     "text": [
      "영스즈\n",
      "2ㅠㅜㅎㅇ\n",
      "\n",
      "영수증번호:230522-0103~0142~-01\n",
      "상호:메이크커피\n",
      "220-09~33826 ㅁㄴ)010-4288-9949 몰진명\n",
      "주소:서물특별시 강남구 강남대로94길 27 (역삼동)\n",
      "\n",
      "1즘\n",
      "\n",
      "테이불번오: 108           주문담담자:관리자\n",
      "\n",
      "계산일자:2023-05-22             시간:13145:06\n",
      "\n",
      "~ 버수랑 말인  3맥\n",
      "\n",
      "아메리카노                      3                  4.200\n",
      "-21때                        3                     0\n",
      "\n",
      "[카 드 번 호] _35651604900634*\n",
      "[할부 개월] 0\n",
      "\n",
      "[카 도 사 명] 빼카드\n",
      "\n",
      "[숨 인 번 호] 51423660\n",
      "\n",
      "[결 제 글 맥] 4,200\n",
      "\n",
      "\n"
     ]
    }
   ],
   "source": [
    "### 영수증\n",
    "pyt.tesseract_cmd = r\"C:\\Users\\soeun\\AppData\\Local\\Programs\\Tesseract-OCR\\tesseract.exe\"\n",
    "img = cv2.imread(bill_path, cv2.IMREAD_GRAYSCALE)\n",
    "ret, binary = cv2.threshold(img, -1, 255, cv2.THRESH_BINARY | cv2.THRESH_OTSU)\n",
    "\n",
    "text = pyt.image_to_string(binary, lang=\"kor\")\n",
    "print(text)\n"
   ]
  },
  {
   "cell_type": "code",
   "execution_count": 38,
   "metadata": {},
   "outputs": [
    {
     "name": "stdout",
     "output_type": "stream",
     "text": [
      "112374568|\n",
      "\n",
      "\n"
     ]
    }
   ],
   "source": [
    "### 차 번호판\n",
    "pyt.tesseract_cmd = r\"C:\\Users\\soeun\\AppData\\Local\\Programs\\Tesseract-OCR\\tesseract.exe\"\n",
    "img = cv2.imread(car_number_path, cv2.IMREAD_GRAYSCALE)\n",
    "ret, binary = cv2.threshold(img, -1, 255, cv2.THRESH_BINARY | cv2.THRESH_OTSU)\n",
    "\n",
    "text = pyt.image_to_string(binary, lang=\"kor\")\n",
    "print(text)"
   ]
  },
  {
   "cell_type": "code",
   "execution_count": 58,
   "metadata": {},
   "outputs": [
    {
     "name": "stdout",
     "output_type": "stream",
     "text": [
      "정지\n",
      "STOP\n",
      "\n"
     ]
    }
   ],
   "source": [
    "## 실습4. 이미지에서 글자 인식\n",
    "import numpy as np\n",
    "pyt.tesseract_cmd = r\"C:\\Users\\soeun\\AppData\\Local\\Programs\\Tesseract-OCR\\tesseract.exe\"\n",
    "img = cv2.imread(stop_path)\n",
    "\n",
    "point_list = []\n",
    "\n",
    "def show_result():\n",
    "    width, height = 600, 500\n",
    "    src = np.array(point_list, dtype=np.float32)\n",
    "    dst = np.array([[0,0], [width, 0], [width, height], [0,height]], dtype=np.float32)\n",
    "    mat = cv2.getPerspectiveTransform(src, dst)  \n",
    "    result = cv2.warpPerspective(img, mat, (width, height)) \n",
    "    cv2.imshow(\"Result\", result)\n",
    "\n",
    "    gray = cv2.cvtColor(result, cv2.COLOR_BGR2GRAY)  #기존 09_mouse_event.ipynb의 미니프로젝트 코드에 이 부분만 추가\n",
    "    ret, binary = cv2.threshold(gray, -1, 255, cv2.THRESH_BINARY | cv2.THRESH_OTSU)\n",
    "    text = pyt.image_to_string(binary, lang=\"kor+eng\")\n",
    "    cv2.imshow(\"result\", result)\n",
    "    print(text)\n",
    "\n",
    "\n",
    "drawing = False\n",
    "def on_mouse(event, x, y, flags, _):\n",
    "    global drawing\n",
    "    copied = img.copy()\n",
    "\n",
    "    if event == cv2.EVENT_LBUTTONDOWN:\n",
    "        drawing = True\n",
    "        point_list.append((x,y))\n",
    "\n",
    "    if drawing:\n",
    "        mouse_pos = None\n",
    "        for point in point_list:\n",
    "            cv2.circle(copied, point, 10, (0, 255, 255), cv2.FILLED)\n",
    "            if mouse_pos:\n",
    "                cv2.line(copied, mouse_pos, point, (0, 255, 255), 5)\n",
    "            mouse_pos = point\n",
    "\n",
    "        next_point = (x,y)\n",
    "\n",
    "        if len(point_list) == 4:\n",
    "            next_point = point_list[0]\n",
    "            show_result()\n",
    "            drawing = False  #이 부분도 추가하면서 결과값이 여러개 나오는 거 방지\n",
    "            \n",
    "        cv2.line(copied, point_list[-1], next_point, (0, 255, 255), 5)\n",
    "\n",
    "    cv2.imshow(name, copied)\n",
    "\n",
    "name = \"Scanner\"\n",
    "cv2.namedWindow(name)\n",
    "cv2.setMouseCallback(name, on_mouse)\n",
    "cv2.imshow(name, img)\n",
    "cv2.waitKey(0)\n",
    "cv2.destroyAllWindows()"
   ]
  },
  {
   "cell_type": "code",
   "execution_count": null,
   "metadata": {},
   "outputs": [],
   "source": []
  }
 ],
 "metadata": {
  "kernelspec": {
   "display_name": "my_cv",
   "language": "python",
   "name": "python3"
  },
  "language_info": {
   "codemirror_mode": {
    "name": "ipython",
    "version": 3
   },
   "file_extension": ".py",
   "mimetype": "text/x-python",
   "name": "python",
   "nbconvert_exporter": "python",
   "pygments_lexer": "ipython3",
   "version": "3.12.8"
  }
 },
 "nbformat": 4,
 "nbformat_minor": 2
}
